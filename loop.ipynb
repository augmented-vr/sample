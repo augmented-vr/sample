{
  "nbformat": 4,
  "nbformat_minor": 0,
  "metadata": {
    "colab": {
      "provenance": [],
      "authorship_tag": "ABX9TyPPJ5CFIq1/BCtOjLrFp7ys",
      "include_colab_link": true
    },
    "kernelspec": {
      "name": "python3",
      "display_name": "Python 3"
    },
    "language_info": {
      "name": "python"
    }
  },
  "cells": [
    {
      "cell_type": "markdown",
      "metadata": {
        "id": "view-in-github",
        "colab_type": "text"
      },
      "source": [
        "<a href=\"https://colab.research.google.com/github/augmented-vr/sample/blob/master/loop.ipynb\" target=\"_parent\"><img src=\"https://colab.research.google.com/assets/colab-badge.svg\" alt=\"Open In Colab\"/></a>"
      ]
    },
    {
      "cell_type": "code",
      "source": [
        "fruits = [\"apple\", \"banana\", \"cherry\"]\n",
        "for fruit in fruits:\n",
        "  print(fruit)"
      ],
      "metadata": {
        "id": "Pwg19E50Y460",
        "colab": {
          "base_uri": "https://localhost:8080/"
        },
        "outputId": "00836264-ebc6-43ff-f874-2dc875e15868"
      },
      "execution_count": null,
      "outputs": [
        {
          "output_type": "stream",
          "name": "stdout",
          "text": [
            "apple\n",
            "banana\n",
            "cherry\n"
          ]
        }
      ]
    },
    {
      "cell_type": "code",
      "source": [
        "numbers = [1, 2, 3, 4, 5]\n",
        "sum_num = 0\n",
        "for num in numbers:\n",
        "  sum_num += num\n",
        "\n",
        "print(f\"numbersの合計:{sum_num}\")"
      ],
      "metadata": {
        "colab": {
          "base_uri": "https://localhost:8080/"
        },
        "id": "4P2jMygwNfcf",
        "outputId": "48d28a31-c1ce-47cd-9fd6-540e9de2d358"
      },
      "execution_count": null,
      "outputs": [
        {
          "output_type": "stream",
          "name": "stdout",
          "text": [
            "numbersの合計:15\n"
          ]
        }
      ]
    },
    {
      "cell_type": "code",
      "source": [
        "#最初の数字を指定しない場合は0、増減の間隔を指定しない場合は1として扱う\n",
        "for i in range(5):\n",
        "  print(f\"数字は{i}です\")"
      ],
      "metadata": {
        "colab": {
          "base_uri": "https://localhost:8080/"
        },
        "id": "HIur6iW7wio2",
        "outputId": "4bbaf566-5fd8-4eaf-c210-777532f90bf9"
      },
      "execution_count": 8,
      "outputs": [
        {
          "output_type": "stream",
          "name": "stdout",
          "text": [
            "数字は0です\n",
            "数字は1です\n",
            "数字は2です\n",
            "数字は3です\n",
            "数字は4です\n"
          ]
        }
      ]
    },
    {
      "cell_type": "code",
      "source": [
        "for i in range(1,6,1):\n",
        "  print(f\"{i}回目のループ\")"
      ],
      "metadata": {
        "id": "7Qz5zFbBOhuT",
        "colab": {
          "base_uri": "https://localhost:8080/"
        },
        "outputId": "654363f8-1d83-485c-fa99-5e3f791fb09e"
      },
      "execution_count": 2,
      "outputs": [
        {
          "output_type": "stream",
          "name": "stdout",
          "text": [
            "1回目のループ\n",
            "2回目のループ\n",
            "3回目のループ\n",
            "4回目のループ\n",
            "5回目のループ\n"
          ]
        }
      ]
    },
    {
      "cell_type": "code",
      "source": [
        "for i in range(0,10,2):\n",
        "  print(f\"数字は{i}です\")"
      ],
      "metadata": {
        "colab": {
          "base_uri": "https://localhost:8080/"
        },
        "id": "8ibfcqxteyOo",
        "outputId": "ab128d4d-20f2-4791-c85b-1b23d53ba0d2"
      },
      "execution_count": 1,
      "outputs": [
        {
          "output_type": "stream",
          "name": "stdout",
          "text": [
            "数字は0です\n",
            "数字は2です\n",
            "数字は4です\n",
            "数字は6です\n",
            "数字は8です\n"
          ]
        }
      ]
    },
    {
      "cell_type": "code",
      "source": [
        "for i in range(10,-1,-1):\n",
        "  print(f\"数字は{i}です\")"
      ],
      "metadata": {
        "colab": {
          "base_uri": "https://localhost:8080/"
        },
        "id": "QmeYr2see1-t",
        "outputId": "3ab92d60-e1c6-4cab-a3bf-f965f772a38b"
      },
      "execution_count": 7,
      "outputs": [
        {
          "output_type": "stream",
          "name": "stdout",
          "text": [
            "数字は10です\n",
            "数字は9です\n",
            "数字は8です\n",
            "数字は7です\n",
            "数字は6です\n",
            "数字は5です\n",
            "数字は4です\n",
            "数字は3です\n",
            "数字は2です\n",
            "数字は1です\n",
            "数字は0です\n"
          ]
        }
      ]
    }
  ]
}