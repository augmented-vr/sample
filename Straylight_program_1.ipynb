{
  "nbformat": 4,
  "nbformat_minor": 0,
  "metadata": {
    "colab": {
      "name": "Straylight_program_1.ipynb",
      "provenance": [],
      "collapsed_sections": [],
      "authorship_tag": "ABX9TyN83gHkpzh0/fxA4w1Nv3NY",
      "include_colab_link": true
    },
    "kernelspec": {
      "name": "python3",
      "display_name": "Python 3"
    }
  },
  "cells": [
    {
      "cell_type": "markdown",
      "metadata": {
        "id": "view-in-github",
        "colab_type": "text"
      },
      "source": [
        "<a href=\"https://colab.research.google.com/github/augmented-vr/sample/blob/master/Straylight_program_1.ipynb\" target=\"_parent\"><img src=\"https://colab.research.google.com/assets/colab-badge.svg\" alt=\"Open In Colab\"/></a>"
      ]
    },
    {
      "cell_type": "code",
      "metadata": {
        "colab": {
          "base_uri": "https://localhost:8080/"
        },
        "id": "W1GhKZZPelNA",
        "outputId": "22273eb2-7d54-4ddb-cc34-4d78b8089a95"
      },
      "source": [
        "#3週目Pssr和泉愛依\r\n",
        "print(\"Hello, world!\")"
      ],
      "execution_count": 16,
      "outputs": [
        {
          "output_type": "stream",
          "text": [
            "Hello, world!\n"
          ],
          "name": "stdout"
        }
      ]
    },
    {
      "cell_type": "code",
      "metadata": {
        "colab": {
          "base_uri": "https://localhost:8080/"
        },
        "id": "9EPAPoI1sNuZ",
        "outputId": "e469d425-889d-48eb-9a73-98af4b604b81"
      },
      "source": [
        "#3週目Pssr芹沢あさひ\r\n",
        "i = 0\r\n",
        "for i in range(22):\r\n",
        "  print(\"Hello! \" + str(i))\r\n",
        "  if i == 16:\r\n",
        "    break\r\n"
      ],
      "execution_count": 17,
      "outputs": [
        {
          "output_type": "stream",
          "text": [
            "Hello! 0\n",
            "Hello! 1\n",
            "Hello! 2\n",
            "Hello! 3\n",
            "Hello! 4\n",
            "Hello! 5\n",
            "Hello! 6\n",
            "Hello! 7\n",
            "Hello! 8\n",
            "Hello! 9\n",
            "Hello! 10\n",
            "Hello! 11\n",
            "Hello! 12\n",
            "Hello! 13\n",
            "Hello! 14\n",
            "Hello! 15\n",
            "Hello! 16\n"
          ],
          "name": "stdout"
        }
      ]
    },
    {
      "cell_type": "code",
      "metadata": {
        "colab": {
          "base_uri": "https://localhost:8080/"
        },
        "id": "LWIyuw66zuSi",
        "outputId": "ddfacd5d-b239-4887-8ec0-bd2cfeffa883"
      },
      "source": [
        "#3週目Pssr黛冬優子\r\n",
        "i = 0\r\n",
        "x = 0\r\n",
        "for i in range(8):\r\n",
        "  for x in range(20):\r\n",
        "    d = x -10\r\n",
        "    if d <= 0:\r\n",
        "      d *= -1\r\n",
        "    if d <= i:\r\n",
        "      print(\"*\", end = \"\")\r\n",
        "    else:\r\n",
        "      print(\" \", end = \"\")\r\n",
        "  print(\"\")\r\n",
        "\r\n",
        "for i in range(2):\r\n",
        "  for x in range(18):\r\n",
        "    if x == 10 or x == 11:\r\n",
        "      print(\"*\", end = \"\")\r\n",
        "    else:\r\n",
        "      print(\" \",end = \"\")  \r\n",
        "  print(\"\")\r\n",
        "\r\n",
        "print(\"Merry Christmas\")\r\n"
      ],
      "execution_count": 18,
      "outputs": [
        {
          "output_type": "stream",
          "text": [
            "          *         \n",
            "         ***        \n",
            "        *****       \n",
            "       *******      \n",
            "      *********     \n",
            "     ***********    \n",
            "    *************   \n",
            "   ***************  \n",
            "          **      \n",
            "          **      \n",
            "Merry Christmas\n"
          ],
          "name": "stdout"
        }
      ]
    },
    {
      "cell_type": "code",
      "metadata": {
        "colab": {
          "base_uri": "https://localhost:8080/"
        },
        "id": "vjJ-HgpkXtuD",
        "outputId": "90da2880-7657-49a7-92ab-abc88cb01361"
      },
      "source": [
        "#if文例\r\n",
        "old = 14\r\n",
        "if old == 14:\r\n",
        "  print(\"あなたはあさひです\")"
      ],
      "execution_count": 19,
      "outputs": [
        {
          "output_type": "stream",
          "text": [
            "あなたはあさひです\n"
          ],
          "name": "stdout"
        }
      ]
    },
    {
      "cell_type": "code",
      "metadata": {
        "colab": {
          "base_uri": "https://localhost:8080/"
        },
        "id": "Cfj-MZUJX5us",
        "outputId": "55a8584c-5c5a-4d56-98c2-ae3db65ef281"
      },
      "source": [
        "#if文else例\r\n",
        "old = 18\r\n",
        "if old == 14:\r\n",
        "  print(\"あなたはあさひです\")\r\n",
        "else:\r\n",
        "  print(\"あなたは愛依です\")"
      ],
      "execution_count": 20,
      "outputs": [
        {
          "output_type": "stream",
          "text": [
            "あなたは愛依です\n"
          ],
          "name": "stdout"
        }
      ]
    },
    {
      "cell_type": "code",
      "metadata": {
        "colab": {
          "base_uri": "https://localhost:8080/"
        },
        "id": "OUpGQpCFZz__",
        "outputId": "83ea018e-749a-44e4-91b8-03584b177060"
      },
      "source": [
        "#if文elif例\r\n",
        "old = 19\r\n",
        "if old == 14:\r\n",
        "  print(\"あなたはあさひです\")\r\n",
        "elif old == 19:\r\n",
        "  print(\"あなたは冬優子です\")\r\n",
        "else:\r\n",
        "  print(\"あなたは愛依です\")"
      ],
      "execution_count": 21,
      "outputs": [
        {
          "output_type": "stream",
          "text": [
            "あなたは冬優子です\n"
          ],
          "name": "stdout"
        }
      ]
    },
    {
      "cell_type": "code",
      "metadata": {
        "colab": {
          "base_uri": "https://localhost:8080/"
        },
        "id": "eSco5ep1R-m7",
        "outputId": "96a22d02-69d7-4321-fc76-9d4009a7cb2d"
      },
      "source": [
        "#if文注意例\r\n",
        "old = 18 #愛依の年齢\r\n",
        "if old == 14:\r\n",
        "  print(\"あなたはあさひです\")\r\n",
        "elif old >= 18: #プログラムは上から処理するのでこれでは冬優子が表示される\r\n",
        "  print(\"あなたは冬優子です\")\r\n",
        "else:\r\n",
        "  print(\"あなたは愛依です\")"
      ],
      "execution_count": 22,
      "outputs": [
        {
          "output_type": "stream",
          "text": [
            "あなたは冬優子です\n"
          ],
          "name": "stdout"
        }
      ]
    },
    {
      "cell_type": "code",
      "metadata": {
        "colab": {
          "base_uri": "https://localhost:8080/"
        },
        "id": "9mP_S8IhTM2u",
        "outputId": "06682ec7-a20c-468f-8e95-2847cffaaf94"
      },
      "source": [
        "#if_test\r\n",
        "a =input(\"年齢を入力してください\")\r\n",
        "old = int(a)\r\n",
        "if old == 14:\r\n",
        "  print(\"あなたはあさひです\")\r\n",
        "elif old == 19:\r\n",
        "  print(\"あなたは冬優子です\")\r\n",
        "else:\r\n",
        "  print(\"あなたは愛依です\")"
      ],
      "execution_count": 23,
      "outputs": [
        {
          "output_type": "stream",
          "text": [
            "年齢を入力してください14\n",
            "あなたはあさひです\n"
          ],
          "name": "stdout"
        }
      ]
    },
    {
      "cell_type": "code",
      "metadata": {
        "colab": {
          "base_uri": "https://localhost:8080/"
        },
        "id": "lxVb_mEt7BAj",
        "outputId": "66ae13b0-6dc9-417b-ddfd-67e40cc9f44e"
      },
      "source": [
        "#冬優子_1\r\n",
        "for i in range(8):\r\n",
        "  for x in range(20):\r\n",
        "    d = x -10\r\n",
        "    if d <= 0:\r\n",
        "      d *= -1\r\n",
        "    if d <= i:\r\n",
        "      print(\"*\", end = \"\")\r\n",
        "    else:\r\n",
        "      print(\" \", end = \"\")\r\n",
        "  print(\"\")"
      ],
      "execution_count": 24,
      "outputs": [
        {
          "output_type": "stream",
          "text": [
            "          *         \n",
            "         ***        \n",
            "        *****       \n",
            "       *******      \n",
            "      *********     \n",
            "     ***********    \n",
            "    *************   \n",
            "   ***************  \n"
          ],
          "name": "stdout"
        }
      ]
    },
    {
      "cell_type": "code",
      "metadata": {
        "colab": {
          "base_uri": "https://localhost:8080/"
        },
        "id": "uzuEVOTh9Y-k",
        "outputId": "f663a87e-2b18-4bc7-e78f-4a91e7afa1c3"
      },
      "source": [
        "#冬優子_2\r\n",
        "for i in range(2):\r\n",
        "  for x in range(18):\r\n",
        "    if x == 10 or x == 11:\r\n",
        "      print(\"*\", end = \"\")\r\n",
        "    else:\r\n",
        "      print(\" \",end = \"\")  \r\n",
        "  print(\"\")"
      ],
      "execution_count": 25,
      "outputs": [
        {
          "output_type": "stream",
          "text": [
            "          **      \n",
            "          **      \n"
          ],
          "name": "stdout"
        }
      ]
    }
  ]
}