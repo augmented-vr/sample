{
  "nbformat": 4,
  "nbformat_minor": 0,
  "metadata": {
    "colab": {
      "provenance": [],
      "authorship_tag": "ABX9TyMbPwmVxv/vU8NOvDb13g1o",
      "include_colab_link": true
    },
    "kernelspec": {
      "name": "python3",
      "display_name": "Python 3"
    },
    "language_info": {
      "name": "python"
    }
  },
  "cells": [
    {
      "cell_type": "markdown",
      "metadata": {
        "id": "view-in-github",
        "colab_type": "text"
      },
      "source": [
        "<a href=\"https://colab.research.google.com/github/augmented-vr/sample/blob/master/list.ipynb\" target=\"_parent\"><img src=\"https://colab.research.google.com/assets/colab-badge.svg\" alt=\"Open In Colab\"/></a>"
      ]
    },
    {
      "cell_type": "code",
      "execution_count": null,
      "metadata": {
        "colab": {
          "base_uri": "https://localhost:8080/"
        },
        "id": "B9U391cVUL4d",
        "outputId": "16bda963-3aa7-40f9-b12b-6ba42ff914f4"
      },
      "outputs": [
        {
          "output_type": "stream",
          "name": "stdout",
          "text": [
            "['apple', 'banana', 'cherry']\n"
          ]
        }
      ],
      "source": [
        "fruits = [\"apple\", \"banana\", \"cherry\"]\n",
        "print(fruits)\n",
        "#print(type(fruits[0])) #リスト内のデータの型の確認するために使用"
      ]
    },
    {
      "cell_type": "code",
      "source": [
        "numbers = [1, 2, 3, 4, 5]\n",
        "print(numbers)\n",
        "#print(type(numbers[0])) #リスト内のデータの型の確認するために使用"
      ],
      "metadata": {
        "colab": {
          "base_uri": "https://localhost:8080/"
        },
        "id": "TB0LuetKUVYi",
        "outputId": "12288cc7-7da5-4fcf-b965-6b4251932d20"
      },
      "execution_count": null,
      "outputs": [
        {
          "output_type": "stream",
          "name": "stdout",
          "text": [
            "[1, 2, 3, 4, 5]\n"
          ]
        }
      ]
    },
    {
      "cell_type": "code",
      "source": [
        "#リストにはいろいろな型のデータを混ぜることもできる\n",
        "mixed_list = [1, \"hello\", True, 3.14]\n",
        "print(mixed_list)"
      ],
      "metadata": {
        "id": "Y6i5h9FWU-2S",
        "colab": {
          "base_uri": "https://localhost:8080/"
        },
        "outputId": "d398e74e-a670-4303-9c8b-38aaf36ab84a"
      },
      "execution_count": null,
      "outputs": [
        {
          "output_type": "stream",
          "name": "stdout",
          "text": [
            "[1, 'hello', True, 3.14]\n"
          ]
        }
      ]
    },
    {
      "cell_type": "code",
      "source": [
        "#リストの要素にアクセスする\n",
        "#インデックス(見出し番号)は0から始まる\n",
        "fruits = [\"apple\", \"banana\", \"cherry\"]\n",
        "print(f\"最初のフルーツ: {fruits[0]}\")"
      ],
      "metadata": {
        "colab": {
          "base_uri": "https://localhost:8080/"
        },
        "id": "cazKUMjJSwnZ",
        "outputId": "43207df7-07ca-435b-a818-4caa5a34c9e9"
      },
      "execution_count": null,
      "outputs": [
        {
          "output_type": "stream",
          "name": "stdout",
          "text": [
            "最初のフルーツ: apple\n"
          ]
        }
      ]
    },
    {
      "cell_type": "code",
      "source": [
        "#数字\n",
        "#インデックスは0からなので二番目の数字を指定したいならインデックスは1を指定する\n",
        "numbers = [1, 2, 3, 4, 5]\n",
        "print(f\"二番目の数字: {numbers[1]}\")"
      ],
      "metadata": {
        "colab": {
          "base_uri": "https://localhost:8080/"
        },
        "id": "nDCg4iXsS-oM",
        "outputId": "e6ad3939-2bd5-4c7a-8eac-9b4542aa8cf5"
      },
      "execution_count": null,
      "outputs": [
        {
          "output_type": "stream",
          "name": "stdout",
          "text": [
            "二番目の数字: 2\n"
          ]
        }
      ]
    },
    {
      "cell_type": "code",
      "source": [
        "#インデックスにマイナスの数字を指定するとリストの最後から要素を指定できる\n",
        "numbers = [1, 2, 3, 4, 5]\n",
        "print(f\"最後の数字: {numbers[-1]}\")\n",
        "print(f\"最初の数字: {numbers[-5]}\")"
      ],
      "metadata": {
        "colab": {
          "base_uri": "https://localhost:8080/"
        },
        "id": "NDC-6v4kLpNr",
        "outputId": "9c124c0a-fa02-430d-c586-b4ee7350a7a9"
      },
      "execution_count": null,
      "outputs": [
        {
          "output_type": "stream",
          "name": "stdout",
          "text": [
            "最後の数字: 5\n",
            "最初の数字: 1\n"
          ]
        }
      ]
    },
    {
      "cell_type": "code",
      "source": [
        "#リストの要素数を調べる\n",
        "fruits = [\"apple\", \"banana\", \"cherry\"]\n",
        "print(f\"フルーツの数: {len(fruits)}\")"
      ],
      "metadata": {
        "colab": {
          "base_uri": "https://localhost:8080/"
        },
        "id": "R2Dfd0fsTJj-",
        "outputId": "572dd7f0-ce8c-4bde-e619-50c298a3adb0"
      },
      "execution_count": null,
      "outputs": [
        {
          "output_type": "stream",
          "name": "stdout",
          "text": [
            "フルーツの数: 3\n"
          ]
        }
      ]
    },
    {
      "cell_type": "code",
      "source": [
        "#リストに新しい要素を追加する\n",
        "fruits = [\"apple\", \"banana\", \"cherry\"]\n",
        "fruits.append(\"orange\")\n",
        "print(fruits)"
      ],
      "metadata": {
        "colab": {
          "base_uri": "https://localhost:8080/"
        },
        "id": "-DBO9Af7Hgxy",
        "outputId": "0e5ef847-a018-4818-dce6-98f5a086c521"
      },
      "execution_count": null,
      "outputs": [
        {
          "output_type": "stream",
          "name": "stdout",
          "text": [
            "['apple', 'banana', 'cherry', 'orange']\n"
          ]
        }
      ]
    },
    {
      "cell_type": "code",
      "source": [
        "#リストの要素を置き換える\n",
        "fruits = [\"apple\", \"banana\", \"cherry\", \"orange\"]\n",
        "print(fruits)\n",
        "fruits[2] = \"lemon\"\n",
        "print(fruits)"
      ],
      "metadata": {
        "colab": {
          "base_uri": "https://localhost:8080/"
        },
        "id": "dN6UODFwH85S",
        "outputId": "a9239818-21a0-4777-9e9a-c26a3e97bba0"
      },
      "execution_count": null,
      "outputs": [
        {
          "output_type": "stream",
          "name": "stdout",
          "text": [
            "['apple', 'banana', 'cherry', 'orange']\n",
            "['apple', 'banana', 'lemon', 'orange']\n"
          ]
        }
      ]
    },
    {
      "cell_type": "code",
      "source": [
        "#リストの要素を削除する\n",
        "fruits = [\"apple\", \"banana\", \"cherry\", \"orange\"]\n",
        "print(fruits)\n",
        "del fruits[1]\n",
        "print(fruits)"
      ],
      "metadata": {
        "colab": {
          "base_uri": "https://localhost:8080/"
        },
        "id": "Pm5qatwGNayt",
        "outputId": "4e2dc45b-e08f-414a-820e-e026321e6bac"
      },
      "execution_count": null,
      "outputs": [
        {
          "output_type": "stream",
          "name": "stdout",
          "text": [
            "['apple', 'banana', 'cherry', 'orange']\n",
            "['apple', 'cherry', 'orange']\n"
          ]
        }
      ]
    }
  ]
}