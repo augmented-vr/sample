{
  "nbformat": 4,
  "nbformat_minor": 0,
  "metadata": {
    "colab": {
      "provenance": [],
      "authorship_tag": "ABX9TyPpx83m0BG1/SULiZXN/eh/",
      "include_colab_link": true
    },
    "kernelspec": {
      "name": "python3",
      "display_name": "Python 3"
    },
    "language_info": {
      "name": "python"
    }
  },
  "cells": [
    {
      "cell_type": "markdown",
      "metadata": {
        "id": "view-in-github",
        "colab_type": "text"
      },
      "source": [
        "<a href=\"https://colab.research.google.com/github/augmented-vr/sample/blob/master/function.ipynb\" target=\"_parent\"><img src=\"https://colab.research.google.com/assets/colab-badge.svg\" alt=\"Open In Colab\"/></a>"
      ]
    },
    {
      "cell_type": "code",
      "execution_count": 1,
      "metadata": {
        "colab": {
          "base_uri": "https://localhost:8080/"
        },
        "id": "QigVd9D_bd4C",
        "outputId": "cebcc0a0-9b2d-44a7-c93c-bd93730939d4"
      },
      "outputs": [
        {
          "output_type": "stream",
          "name": "stdout",
          "text": [
            "皆さん、こんにちは\n"
          ]
        }
      ],
      "source": [
        "#挨拶を表示する関数\n",
        "def say_hello():\n",
        "  print(\"皆さん、こんにちは\")\n",
        "\n",
        "say_hello()"
      ]
    },
    {
      "cell_type": "code",
      "source": [
        "#引数を使って挨拶を表示する関数\n",
        "def greet(name):\n",
        "  print(f\"{name}さん、こんにちは\")\n",
        "\n",
        "greet(\"a\")\n",
        "greet(\"佐藤\")\n",
        "greet(\"パイソン\")"
      ],
      "metadata": {
        "colab": {
          "base_uri": "https://localhost:8080/"
        },
        "id": "5LtY2OC9pfUv",
        "outputId": "54d64985-5fd5-4018-ba4e-c292931447d1"
      },
      "execution_count": 2,
      "outputs": [
        {
          "output_type": "stream",
          "name": "stdout",
          "text": [
            "aさん、こんにちは\n",
            "佐藤さん、こんにちは\n",
            "パイソンさん、こんにちは\n"
          ]
        }
      ]
    },
    {
      "cell_type": "code",
      "source": [
        "#デフォルト引数を設定した挨拶\n",
        "def greet_default(name=\"名無し\"):\n",
        "  print(f\"{name}さん、こんにちは\")\n",
        "\n",
        "greet_default()\n",
        "greet_default(\"パイソン\")"
      ],
      "metadata": {
        "colab": {
          "base_uri": "https://localhost:8080/"
        },
        "id": "2h8u720Q0i-m",
        "outputId": "3a8c5341-6590-4e07-8cae-1db3ab0ba9d3"
      },
      "execution_count": 11,
      "outputs": [
        {
          "output_type": "stream",
          "name": "stdout",
          "text": [
            "名無しさん、こんにちは\n",
            "パイソンさん、こんにちは\n"
          ]
        }
      ]
    },
    {
      "cell_type": "code",
      "source": [
        "#return文を使って返り値を返す。2つの数値を足す関数\n",
        "def add_numbers(x, y):\n",
        "  result = x + y\n",
        "  return result\n",
        "\n",
        "ans = add_numbers(10, 20)\n",
        "print(ans)\n",
        "print(add_numbers(100, 50))"
      ],
      "metadata": {
        "colab": {
          "base_uri": "https://localhost:8080/"
        },
        "id": "I4z58Mq2tDVb",
        "outputId": "beeb416e-e8d8-4398-8e61-01bf03cc5952"
      },
      "execution_count": 8,
      "outputs": [
        {
          "output_type": "stream",
          "name": "stdout",
          "text": [
            "30\n",
            "150\n"
          ]
        }
      ]
    }
  ]
}