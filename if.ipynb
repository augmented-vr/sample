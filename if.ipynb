{
  "nbformat": 4,
  "nbformat_minor": 0,
  "metadata": {
    "colab": {
      "provenance": [],
      "authorship_tag": "ABX9TyNptj2UEtQ1V7s9bYciEe1P",
      "include_colab_link": true
    },
    "kernelspec": {
      "name": "python3",
      "display_name": "Python 3"
    },
    "language_info": {
      "name": "python"
    }
  },
  "cells": [
    {
      "cell_type": "markdown",
      "metadata": {
        "id": "view-in-github",
        "colab_type": "text"
      },
      "source": [
        "<a href=\"https://colab.research.google.com/github/augmented-vr/sample/blob/master/if.ipynb\" target=\"_parent\"><img src=\"https://colab.research.google.com/assets/colab-badge.svg\" alt=\"Open In Colab\"/></a>"
      ]
    },
    {
      "cell_type": "code",
      "execution_count": 1,
      "metadata": {
        "colab": {
          "base_uri": "https://localhost:8080/"
        },
        "id": "MSxRI1fbTI_3",
        "outputId": "701d50f1-367e-4b98-ecde-ce17fdc04081"
      },
      "outputs": [
        {
          "output_type": "stream",
          "name": "stdout",
          "text": [
            "10は5より大きい\n"
          ]
        }
      ],
      "source": [
        "x = 10\n",
        "if x > 5:\n",
        "  print(f\"{x}は5より大きい\")"
      ]
    },
    {
      "cell_type": "code",
      "source": [
        "x = 1\n",
        "if x > 5:\n",
        "  print(f\"{x}は5より大きい\")"
      ],
      "metadata": {
        "id": "MYk61b3jL5N2"
      },
      "execution_count": 2,
      "outputs": []
    },
    {
      "cell_type": "code",
      "source": [
        "b = False\n",
        "if b:\n",
        "  print(\"これは真です\")\n",
        "else:\n",
        "  print(\"これは偽です\")"
      ],
      "metadata": {
        "colab": {
          "base_uri": "https://localhost:8080/"
        },
        "id": "xX92RMxfF6pz",
        "outputId": "e944854a-54e6-4371-fa48-4cefd3969726"
      },
      "execution_count": 3,
      "outputs": [
        {
          "output_type": "stream",
          "name": "stdout",
          "text": [
            "これは偽です\n"
          ]
        }
      ]
    },
    {
      "cell_type": "code",
      "source": [
        "b = True\n",
        "if b:\n",
        "  print(\"これは真です\")\n",
        "else:\n",
        "  print(\"これは偽です\")"
      ],
      "metadata": {
        "colab": {
          "base_uri": "https://localhost:8080/"
        },
        "id": "N738FAF8L7vf",
        "outputId": "474bbd8e-9275-4640-9543-c259414366a0"
      },
      "execution_count": 4,
      "outputs": [
        {
          "output_type": "stream",
          "name": "stdout",
          "text": [
            "これは真です\n"
          ]
        }
      ]
    },
    {
      "cell_type": "code",
      "source": [
        "score = 70 #点数\n",
        "#点数が80以上ならA、79以下60以上ならB、59以下40以上ならC、39以下をDと出力する\n",
        "if score >= 80:\n",
        "  print(\"A\")\n",
        "elif score >= 60:\n",
        "  print(\"B\")\n",
        "elif score >= 40:\n",
        "  print(\"C\")\n",
        "else:\n",
        "  print(\"D\")"
      ],
      "metadata": {
        "colab": {
          "base_uri": "https://localhost:8080/"
        },
        "id": "mCuCKxvYtnKf",
        "outputId": "4c7340d8-d63b-49d9-fa8c-b2902505f4a3"
      },
      "execution_count": 5,
      "outputs": [
        {
          "output_type": "stream",
          "name": "stdout",
          "text": [
            "B\n"
          ]
        }
      ]
    },
    {
      "cell_type": "code",
      "source": [
        "score = 70 #点数\n",
        "#点数が80以上ならA、79以下60以上ならB、59以下40以上ならC、39以下をDと出力する\n",
        "if score >= 40:\n",
        "  print(\"C\")\n",
        "elif score >= 60:\n",
        "  print(\"B\")\n",
        "elif score >= 80:\n",
        "  print(\"A\")\n",
        "else:\n",
        "  print(\"D\")"
      ],
      "metadata": {
        "colab": {
          "base_uri": "https://localhost:8080/"
        },
        "id": "FSRti6Mpt8SC",
        "outputId": "9731e258-5f69-464e-db7f-497d64b91a7b"
      },
      "execution_count": 6,
      "outputs": [
        {
          "output_type": "stream",
          "name": "stdout",
          "text": [
            "C\n"
          ]
        }
      ]
    },
    {
      "cell_type": "code",
      "source": [
        "score_list = [70, 80, 55, 30, 100, 0]\n",
        "for score in score_list:\n",
        "  if score >= 80:\n",
        "    print(\"A\")\n",
        "  elif score >= 60:\n",
        "    print(\"B\")\n",
        "  elif score >= 40:\n",
        "    print(\"C\")\n",
        "  else:\n",
        "    print(\"D\")"
      ],
      "metadata": {
        "colab": {
          "base_uri": "https://localhost:8080/"
        },
        "id": "GGnx1Sy4uLrq",
        "outputId": "55bdffe5-4b63-41bc-8b8b-0670ee1837bf"
      },
      "execution_count": 7,
      "outputs": [
        {
          "output_type": "stream",
          "name": "stdout",
          "text": [
            "B\n",
            "A\n",
            "C\n",
            "D\n",
            "A\n",
            "D\n"
          ]
        }
      ]
    },
    {
      "cell_type": "code",
      "source": [
        "\"\"\"\n",
        "score_list = [70, 80, 55, 30, 100, 0]\n",
        "for score in score_list:\n",
        "  if score >= 80:\n",
        "    print(\"A\")\n",
        "  elif score >= 60:\n",
        "    print(\"B\")\n",
        "  elif score >= 40:\n",
        "    print(\"C\")\n",
        "  else:\n",
        "    print(\"D\")\n",
        "\n",
        "をfor文やelif、elseを使わずに書いた場合\n",
        "\"\"\"\n",
        "score1 = 70\n",
        "if score1 >= 80:\n",
        "  print(\"A\")\n",
        "if 80 > score1 >= 60:\n",
        "  print(\"B\")\n",
        "if 60 > score1 >= 40:\n",
        "  print(\"C\")\n",
        "if 40 > score1:\n",
        "  print(\"D\")\n",
        "\n",
        "score2 = 80\n",
        "if score2 >= 80:\n",
        "  print(\"A\")\n",
        "if 80 > score2 >= 60:\n",
        "  print(\"B\")\n",
        "if 60 > score2 >= 40:\n",
        "  print(\"C\")\n",
        "if 40 > score2:\n",
        "  print(\"D\")\n",
        "\n",
        "score3 = 55\n",
        "if score3 >= 80:\n",
        "  print(\"A\")\n",
        "if 80 > score3 >= 60:\n",
        "  print(\"B\")\n",
        "if 60 > score3 >= 40:\n",
        "  print(\"C\")\n",
        "if 40 > score3:\n",
        "  print(\"D\")\n",
        "\n",
        "score4 = 30\n",
        "if score4 >= 80:\n",
        "  print(\"A\")\n",
        "if 80 > score4 >= 60:\n",
        "  print(\"B\")\n",
        "if 60 > score4 >= 40:\n",
        "  print(\"C\")\n",
        "if 40 > score4:\n",
        "  print(\"D\")\n",
        "\n",
        "score5 = 100\n",
        "if score5 >= 80:\n",
        "  print(\"A\")\n",
        "if 80 > score5 >= 60:\n",
        "  print(\"B\")\n",
        "if 60 > score5 >= 40:\n",
        "  print(\"C\")\n",
        "if 40 > score5:\n",
        "  print(\"D\")\n",
        "\n",
        "score6 = 0\n",
        "if score6 >= 80:\n",
        "  print(\"A\")\n",
        "if 80 > score6 >= 60:\n",
        "  print(\"B\")\n",
        "if 60 > score6 >= 40:\n",
        "  print(\"C\")\n",
        "if 40 > score6:\n",
        "  print(\"D\")"
      ],
      "metadata": {
        "colab": {
          "base_uri": "https://localhost:8080/"
        },
        "id": "ZfDhWPgIpT4Y",
        "outputId": "05120a94-376f-4d53-950d-6b1c19fd7fb8"
      },
      "execution_count": 8,
      "outputs": [
        {
          "output_type": "stream",
          "name": "stdout",
          "text": [
            "B\n",
            "A\n",
            "C\n",
            "D\n",
            "A\n",
            "D\n"
          ]
        }
      ]
    }
  ]
}