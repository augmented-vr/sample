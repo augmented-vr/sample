{
  "nbformat": 4,
  "nbformat_minor": 0,
  "metadata": {
    "colab": {
      "name": "comment.ipynb",
      "version": "0.3.2",
      "provenance": [],
      "collapsed_sections": [],
      "include_colab_link": true
    },
    "kernelspec": {
      "name": "python3",
      "display_name": "Python 3"
    }
  },
  "cells": [
    {
      "cell_type": "markdown",
      "metadata": {
        "id": "view-in-github",
        "colab_type": "text"
      },
      "source": [
        "<a href=\"https://colab.research.google.com/github/augmented-vr/sample/blob/master/comment.ipynb\" target=\"_parent\"><img src=\"https://colab.research.google.com/assets/colab-badge.svg\" alt=\"Open In Colab\"/></a>"
      ]
    },
    {
      "cell_type": "code",
      "metadata": {
        "id": "PBZ1j4RbVKWL",
        "colab_type": "code",
        "colab": {
          "base_uri": "https://localhost:8080/",
          "height": 34
        },
        "outputId": "41f54274-f194-4f67-98be-c6d58b9e9245"
      },
      "source": [
        "\n",
        "#コメントテスト\n",
        "1+3"
      ],
      "execution_count": 2,
      "outputs": [
        {
          "output_type": "execute_result",
          "data": {
            "text/plain": [
              "4"
            ]
          },
          "metadata": {
            "tags": []
          },
          "execution_count": 2
        }
      ]
    },
    {
      "cell_type": "code",
      "metadata": {
        "id": "MgOsZ__hxAV2",
        "colab_type": "code",
        "colab": {
          "base_uri": "https://localhost:8080/",
          "height": 51
        },
        "outputId": "826781ff-11bd-4669-aeb5-fcfa7bf0fa12"
      },
      "source": [
        "print(\"test0\")\n",
        "print(\"test1\")"
      ],
      "execution_count": 3,
      "outputs": [
        {
          "output_type": "stream",
          "text": [
            "test0\n",
            "test1\n"
          ],
          "name": "stdout"
        }
      ]
    },
    {
      "cell_type": "code",
      "metadata": {
        "id": "MUx-yt3uxBgH",
        "colab_type": "code",
        "colab": {
          "base_uri": "https://localhost:8080/",
          "height": 34
        },
        "outputId": "628757ba-2854-4e18-e719-7434d610ba0f"
      },
      "source": [
        "#print(\"test0\")\n",
        "print(\"test1\")"
      ],
      "execution_count": 4,
      "outputs": [
        {
          "output_type": "stream",
          "text": [
            "test1\n"
          ],
          "name": "stdout"
        }
      ]
    },
    {
      "cell_type": "code",
      "metadata": {
        "id": "MKDNFNsa5iJq",
        "colab_type": "code",
        "colab": {
          "base_uri": "https://localhost:8080/",
          "height": 102
        },
        "outputId": "dc6720ff-d0e8-4a6a-f89d-147034ece921"
      },
      "source": [
        "print(\"test0\")\n",
        "print(\"test1\")\n",
        "print(\"test2\")\n",
        "print(\"test3\")\n",
        "print(\"test4\")"
      ],
      "execution_count": 9,
      "outputs": [
        {
          "output_type": "stream",
          "text": [
            "test0\n",
            "test1\n",
            "test2\n",
            "test3\n",
            "test4\n"
          ],
          "name": "stdout"
        }
      ]
    },
    {
      "cell_type": "code",
      "metadata": {
        "id": "cauD9USH6ICS",
        "colab_type": "code",
        "colab": {
          "base_uri": "https://localhost:8080/",
          "height": 34
        },
        "outputId": "306f533a-8d2c-4b30-a94b-33b8dbb01f37"
      },
      "source": [
        "\"\"\"\n",
        "print(\"test0\")\n",
        "print(\"test1\")\n",
        "print(\"test2\")\n",
        "print(\"test3\")\n",
        "\"\"\"\n",
        "print(\"test4\")"
      ],
      "execution_count": 10,
      "outputs": [
        {
          "output_type": "stream",
          "text": [
            "test4\n"
          ],
          "name": "stdout"
        }
      ]
    }
  ]
}